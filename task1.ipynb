{
 "cells": [
  {
   "cell_type": "code",
   "execution_count": 3,
   "id": "00490516-8880-4b78-a3b0-06545bb15395",
   "metadata": {},
   "outputs": [
    {
     "name": "stdout",
     "output_type": "stream",
     "text": [
      "       Disease Fever Cough Fatigue Difficulty Breathing  Age  Gender  \\\n",
      "0    Influenza   Yes    No     Yes                  Yes   19  Female   \n",
      "1  Common Cold    No   Yes     Yes                   No   25  Female   \n",
      "2       Eczema    No   Yes     Yes                   No   25  Female   \n",
      "3       Asthma   Yes   Yes      No                  Yes   25    Male   \n",
      "4       Asthma   Yes   Yes      No                  Yes   25    Male   \n",
      "\n",
      "  Blood Pressure Cholesterol Level Outcome Variable  \n",
      "0            Low            Normal         Positive  \n",
      "1         Normal            Normal         Negative  \n",
      "2         Normal            Normal         Negative  \n",
      "3         Normal            Normal         Positive  \n",
      "4         Normal            Normal         Positive  \n"
     ]
    }
   ],
   "source": [
    "import pandas as pd\n",
    "\n",
    "# Load the dataset\n",
    "df = pd.read_csv('Disease_symptom_and_patient_profile_dataset.csv')\n",
    "print(df.head())"
   ]
  },
  {
   "cell_type": "code",
   "execution_count": 5,
   "id": "e91d6307-8c52-453d-8245-631f527754ce",
   "metadata": {},
   "outputs": [
    {
     "name": "stdout",
     "output_type": "stream",
     "text": [
      "Index(['Disease', 'Fever', 'Cough', 'Fatigue', 'Difficulty Breathing', 'Age',\n",
      "       'Gender', 'Blood Pressure', 'Cholesterol Level', 'Outcome Variable'],\n",
      "      dtype='object')\n"
     ]
    }
   ],
   "source": [
    "print(df.columns)"
   ]
  },
  {
   "cell_type": "code",
   "execution_count": 7,
   "id": "505c71cc-7039-403a-9d79-cdbf13a44444",
   "metadata": {},
   "outputs": [
    {
     "name": "stdout",
     "output_type": "stream",
     "text": [
      "   Disease  Fever  Cough  Fatigue  Difficulty Breathing  Age  Gender  \\\n",
      "0       56      1      0        1                     1   19       0   \n",
      "1       24      0      1        1                     0   25       0   \n",
      "2       37      0      1        1                     0   25       0   \n",
      "3        6      1      1        0                     1   25       1   \n",
      "4        6      1      1        0                     1   25       1   \n",
      "\n",
      "   Blood Pressure  Cholesterol Level  Outcome Variable  \n",
      "0               1                  2                 1  \n",
      "1               2                  2                 0  \n",
      "2               2                  2                 0  \n",
      "3               2                  2                 1  \n",
      "4               2                  2                 1  \n",
      "Index(['Disease', 'Fever', 'Cough', 'Fatigue', 'Difficulty Breathing', 'Age',\n",
      "       'Gender', 'Blood Pressure', 'Cholesterol Level', 'Outcome Variable'],\n",
      "      dtype='object')\n"
     ]
    }
   ],
   "source": [
    "from sklearn.preprocessing import LabelEncoder\n",
    "\n",
    "# Encode categorical variables\n",
    "label_encoders = {}\n",
    "for column in ['Disease', 'Fever', 'Cough', 'Fatigue', 'Difficulty Breathing', 'Gender', 'Blood Pressure', 'Cholesterol Level', 'Outcome Variable']:\n",
    "    label_encoders[column] = LabelEncoder()\n",
    "    df[column] = label_encoders[column].fit_transform(df[column])\n",
    "\n",
    "# Verify the DataFrame after encoding\n",
    "print(df.head())\n",
    "print(df.columns)"
   ]
  },
  {
   "cell_type": "code",
   "execution_count": 9,
   "id": "ec3a6d84-fdd0-4bff-be1d-140634c1b90a",
   "metadata": {},
   "outputs": [],
   "source": [
    "X = df.drop('Outcome Variable', axis=1)\n",
    "y = df['Outcome Variable']"
   ]
  },
  {
   "cell_type": "code",
   "execution_count": 11,
   "id": "74d25f35-8915-4b4a-ab36-5c62cdf83a0f",
   "metadata": {},
   "outputs": [],
   "source": [
    "from sklearn.model_selection import train_test_split\n",
    "\n",
    "# Split the data into training and testing sets\n",
    "X_train, X_test, y_train, y_test = train_test_split(X, y, test_size=0.2, random_state=42)\n"
   ]
  },
  {
   "cell_type": "code",
   "execution_count": 13,
   "id": "e50e535a-eecc-44e0-8c79-d5711622d331",
   "metadata": {},
   "outputs": [
    {
     "data": {
      "text/html": [
       "<style>#sk-container-id-1 {color: black;}#sk-container-id-1 pre{padding: 0;}#sk-container-id-1 div.sk-toggleable {background-color: white;}#sk-container-id-1 label.sk-toggleable__label {cursor: pointer;display: block;width: 100%;margin-bottom: 0;padding: 0.3em;box-sizing: border-box;text-align: center;}#sk-container-id-1 label.sk-toggleable__label-arrow:before {content: \"▸\";float: left;margin-right: 0.25em;color: #696969;}#sk-container-id-1 label.sk-toggleable__label-arrow:hover:before {color: black;}#sk-container-id-1 div.sk-estimator:hover label.sk-toggleable__label-arrow:before {color: black;}#sk-container-id-1 div.sk-toggleable__content {max-height: 0;max-width: 0;overflow: hidden;text-align: left;background-color: #f0f8ff;}#sk-container-id-1 div.sk-toggleable__content pre {margin: 0.2em;color: black;border-radius: 0.25em;background-color: #f0f8ff;}#sk-container-id-1 input.sk-toggleable__control:checked~div.sk-toggleable__content {max-height: 200px;max-width: 100%;overflow: auto;}#sk-container-id-1 input.sk-toggleable__control:checked~label.sk-toggleable__label-arrow:before {content: \"▾\";}#sk-container-id-1 div.sk-estimator input.sk-toggleable__control:checked~label.sk-toggleable__label {background-color: #d4ebff;}#sk-container-id-1 div.sk-label input.sk-toggleable__control:checked~label.sk-toggleable__label {background-color: #d4ebff;}#sk-container-id-1 input.sk-hidden--visually {border: 0;clip: rect(1px 1px 1px 1px);clip: rect(1px, 1px, 1px, 1px);height: 1px;margin: -1px;overflow: hidden;padding: 0;position: absolute;width: 1px;}#sk-container-id-1 div.sk-estimator {font-family: monospace;background-color: #f0f8ff;border: 1px dotted black;border-radius: 0.25em;box-sizing: border-box;margin-bottom: 0.5em;}#sk-container-id-1 div.sk-estimator:hover {background-color: #d4ebff;}#sk-container-id-1 div.sk-parallel-item::after {content: \"\";width: 100%;border-bottom: 1px solid gray;flex-grow: 1;}#sk-container-id-1 div.sk-label:hover label.sk-toggleable__label {background-color: #d4ebff;}#sk-container-id-1 div.sk-serial::before {content: \"\";position: absolute;border-left: 1px solid gray;box-sizing: border-box;top: 0;bottom: 0;left: 50%;z-index: 0;}#sk-container-id-1 div.sk-serial {display: flex;flex-direction: column;align-items: center;background-color: white;padding-right: 0.2em;padding-left: 0.2em;position: relative;}#sk-container-id-1 div.sk-item {position: relative;z-index: 1;}#sk-container-id-1 div.sk-parallel {display: flex;align-items: stretch;justify-content: center;background-color: white;position: relative;}#sk-container-id-1 div.sk-item::before, #sk-container-id-1 div.sk-parallel-item::before {content: \"\";position: absolute;border-left: 1px solid gray;box-sizing: border-box;top: 0;bottom: 0;left: 50%;z-index: -1;}#sk-container-id-1 div.sk-parallel-item {display: flex;flex-direction: column;z-index: 1;position: relative;background-color: white;}#sk-container-id-1 div.sk-parallel-item:first-child::after {align-self: flex-end;width: 50%;}#sk-container-id-1 div.sk-parallel-item:last-child::after {align-self: flex-start;width: 50%;}#sk-container-id-1 div.sk-parallel-item:only-child::after {width: 0;}#sk-container-id-1 div.sk-dashed-wrapped {border: 1px dashed gray;margin: 0 0.4em 0.5em 0.4em;box-sizing: border-box;padding-bottom: 0.4em;background-color: white;}#sk-container-id-1 div.sk-label label {font-family: monospace;font-weight: bold;display: inline-block;line-height: 1.2em;}#sk-container-id-1 div.sk-label-container {text-align: center;}#sk-container-id-1 div.sk-container {/* jupyter's `normalize.less` sets `[hidden] { display: none; }` but bootstrap.min.css set `[hidden] { display: none !important; }` so we also need the `!important` here to be able to override the default hidden behavior on the sphinx rendered scikit-learn.org. See: https://github.com/scikit-learn/scikit-learn/issues/21755 */display: inline-block !important;position: relative;}#sk-container-id-1 div.sk-text-repr-fallback {display: none;}</style><div id=\"sk-container-id-1\" class=\"sk-top-container\"><div class=\"sk-text-repr-fallback\"><pre>RandomForestClassifier(random_state=42)</pre><b>In a Jupyter environment, please rerun this cell to show the HTML representation or trust the notebook. <br />On GitHub, the HTML representation is unable to render, please try loading this page with nbviewer.org.</b></div><div class=\"sk-container\" hidden><div class=\"sk-item\"><div class=\"sk-estimator sk-toggleable\"><input class=\"sk-toggleable__control sk-hidden--visually\" id=\"sk-estimator-id-1\" type=\"checkbox\" checked><label for=\"sk-estimator-id-1\" class=\"sk-toggleable__label sk-toggleable__label-arrow\">RandomForestClassifier</label><div class=\"sk-toggleable__content\"><pre>RandomForestClassifier(random_state=42)</pre></div></div></div></div></div>"
      ],
      "text/plain": [
       "RandomForestClassifier(random_state=42)"
      ]
     },
     "execution_count": 13,
     "metadata": {},
     "output_type": "execute_result"
    }
   ],
   "source": [
    "from sklearn.ensemble import RandomForestClassifier\n",
    "\n",
    "# Initialize the model\n",
    "model = RandomForestClassifier(random_state=42)\n",
    "\n",
    "# Train the model\n",
    "model.fit(X_train, y_train)\n"
   ]
  },
  {
   "cell_type": "code",
   "execution_count": 15,
   "id": "16110000-5997-4ce1-b958-35f8636d1e9a",
   "metadata": {},
   "outputs": [],
   "source": [
    "from sklearn.metrics import accuracy_score, precision_score, recall_score, f1_score\n",
    "\n",
    "# Make predictions\n",
    "y_pred = model.predict(X_test)\n",
    "\n",
    "# Evaluate the model\n",
    "accuracy = accuracy_score(y_test, y_pred)\n",
    "precision = precision_score(y_test, y_pred)\n",
    "recall = recall_score(y_test, y_pred)\n",
    "f1 = f1_score(y_test, y_pred)"
   ]
  },
  {
   "cell_type": "code",
   "execution_count": 17,
   "id": "337e2394-f0fc-47d3-a728-4894fcb5e3aa",
   "metadata": {},
   "outputs": [
    {
     "name": "stdout",
     "output_type": "stream",
     "text": [
      "Accuracy: 0.8428571428571429\n",
      "Precision: 0.8717948717948718\n",
      "Recall: 0.85\n",
      "F1 Score: 0.8607594936708861\n"
     ]
    }
   ],
   "source": [
    "print(f'Accuracy: {accuracy}')\n",
    "print(f'Precision: {precision}')\n",
    "print(f'Recall: {recall}')\n",
    "print(f'F1 Score: {f1}')"
   ]
  },
  {
   "cell_type": "code",
   "execution_count": 21,
   "id": "3b6fe5ef-f18b-40ea-8971-0142fe603ff4",
   "metadata": {},
   "outputs": [],
   "source": [
    "new_data = {\n",
    "    'Disease': 'Influenza',\n",
    "    'Fever': 'Yes',\n",
    "    'Cough': 'No',\n",
    "    'Fatigue': 'Yes',\n",
    "    'Difficulty Breathing': 'Yes',\n",
    "    'Age': 20,\n",
    "    'Gender': 'Female',\n",
    "    'Blood Pressure': 'Low',\n",
    "    'Cholesterol Level': 'Normal'}"
   ]
  },
  {
   "cell_type": "code",
   "execution_count": 23,
   "id": "519736ef-9e9b-46cb-8ec8-c2b91c069862",
   "metadata": {},
   "outputs": [
    {
     "name": "stdout",
     "output_type": "stream",
     "text": [
      "Prediction: Positive\n"
     ]
    }
   ],
   "source": [
    "new_data_encoded = {}\n",
    "for column, value in new_data.items():\n",
    "    if column in label_encoders:\n",
    "        new_data_encoded[column] = label_encoders[column].transform([value])[0]\n",
    "    else:\n",
    "        new_data_encoded[column] = value\n",
    "\n",
    "# Convert the encoded new data into a DataFrame with the same columns as X_train\n",
    "new_data_df = pd.DataFrame([new_data_encoded], columns=X.columns)\n",
    "\n",
    "# Make a prediction\n",
    "prediction = model.predict(new_data_df)\n",
    "# Decode the prediction\n",
    "prediction_decoded = label_encoders['Outcome Variable'].inverse_transform(prediction)\n",
    "print(f'Prediction: {prediction_decoded[0]}')"
   ]
  },
  {
   "cell_type": "code",
   "execution_count": 25,
   "id": "50735861-00a0-4183-9aaa-184906ed8571",
   "metadata": {},
   "outputs": [],
   "source": [
    "new_data = {\n",
    "    'Disease': 'Common Cold',\n",
    "    'Fever': 'No',\n",
    "    'Cough': 'Yes',\n",
    "    'Fatigue': 'Yes',\n",
    "    'Difficulty Breathing': 'No',\n",
    "    'Age': 25,\n",
    "    'Gender': 'Female',\n",
    "    'Blood Pressure': 'Normal',\n",
    "    'Cholesterol Level': 'Normal'\n",
    "}\n"
   ]
  },
  {
   "cell_type": "code",
   "execution_count": 27,
   "id": "afc31a38-e262-4494-9f4c-c700bc0a4c9a",
   "metadata": {},
   "outputs": [
    {
     "name": "stdout",
     "output_type": "stream",
     "text": [
      "Prediction: Negative\n"
     ]
    }
   ],
   "source": [
    "new_data_encoded = {}\n",
    "for column, value in new_data.items():\n",
    "    if column in label_encoders:\n",
    "        new_data_encoded[column] = label_encoders[column].transform([value])[0]\n",
    "    else:\n",
    "        new_data_encoded[column] = value\n",
    "\n",
    "# Convert the encoded new data into a DataFrame with the same columns as X_train\n",
    "new_data_df = pd.DataFrame([new_data_encoded], columns=X.columns)\n",
    "\n",
    "# Make a prediction\n",
    "prediction = model.predict(new_data_df)\n",
    "# Decode the prediction\n",
    "prediction_decoded = label_encoders['Outcome Variable'].inverse_transform(prediction)\n",
    "print(f'Prediction: {prediction_decoded[0]}')"
   ]
  }
 ],
 "metadata": {
  "kernelspec": {
   "display_name": "Python 3 (ipykernel)",
   "language": "python",
   "name": "python3"
  },
  "language_info": {
   "codemirror_mode": {
    "name": "ipython",
    "version": 3
   },
   "file_extension": ".py",
   "mimetype": "text/x-python",
   "name": "python",
   "nbconvert_exporter": "python",
   "pygments_lexer": "ipython3",
   "version": "3.11.5"
  }
 },
 "nbformat": 4,
 "nbformat_minor": 5
}
